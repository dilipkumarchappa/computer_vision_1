{
  "nbformat": 4,
  "nbformat_minor": 0,
  "metadata": {
    "colab": {
      "name": "1. VGG Model Prediction.ipynb",
      "provenance": [],
      "private_outputs": true,
      "collapsed_sections": []
    },
    "kernelspec": {
      "name": "python3",
      "display_name": "Python 3"
    },
    "accelerator": "GPU"
  },
  "cells": [
    {
      "cell_type": "markdown",
      "metadata": {
        "id": "s8jwalrGVC6A",
        "colab_type": "text"
      },
      "source": [
        "### Get Data"
      ]
    },
    {
      "cell_type": "markdown",
      "metadata": {
        "id": "3c0DC3Wdx5f_",
        "colab_type": "text"
      },
      "source": [
        "Download an image to predict on. You can use a different image than one being downloaded below."
      ]
    },
    {
      "cell_type": "code",
      "metadata": {
        "id": "5gqRlnt7Ut4h",
        "colab_type": "code",
        "colab": {}
      },
      "source": [
        "!wget -q -O dog.jpeg https://cdn.akc.org/content/article-body-image/samoyed_puppy_dog_pictures.jpg"
      ],
      "execution_count": null,
      "outputs": []
    },
    {
      "cell_type": "code",
      "metadata": {
        "id": "YFfTx_rJVHkq",
        "colab_type": "code",
        "colab": {}
      },
      "source": [
        "import tensorflow as tf\n",
        "import numpy as np"
      ],
      "execution_count": null,
      "outputs": []
    },
    {
      "cell_type": "code",
      "metadata": {
        "id": "WCEDcqC-VI6G",
        "colab_type": "code",
        "colab": {}
      },
      "source": [
        "#Load and resize this image\n",
        "img = tf.keras.preprocessing.image.load_img('dog.jpeg')\n",
        "img = img.resize((600,400))"
      ],
      "execution_count": null,
      "outputs": []
    },
    {
      "cell_type": "code",
      "metadata": {
        "id": "6vKHLxKrVwDM",
        "colab_type": "code",
        "colab": {}
      },
      "source": [
        "#Visualize image\n",
        "img"
      ],
      "execution_count": null,
      "outputs": []
    },
    {
      "cell_type": "markdown",
      "metadata": {
        "id": "aXBUrOcPWmjA",
        "colab_type": "text"
      },
      "source": [
        "### Predicting using VGG"
      ]
    },
    {
      "cell_type": "code",
      "metadata": {
        "id": "scKAZMHxWlLI",
        "colab_type": "code",
        "colab": {}
      },
      "source": [
        "#Load VGG Model\n",
        "vgg = tf.keras.applications.vgg16.VGG16(include_top=True, #Should we include classification Layers\n",
        "                                        weights='imagenet', #Load imagenet weights, 'None' will load random weights\n",
        "                                        input_shape=(224,224,3)) #Input image size"
      ],
      "execution_count": null,
      "outputs": []
    },
    {
      "cell_type": "code",
      "metadata": {
        "id": "4L8u-2spPfeI",
        "colab_type": "code",
        "colab": {}
      },
      "source": [
        "vgg.summary()"
      ],
      "execution_count": null,
      "outputs": []
    },
    {
      "cell_type": "code",
      "metadata": {
        "id": "ayUI_w6hW1ta",
        "colab_type": "code",
        "colab": {}
      },
      "source": [
        "#Prepare Input \n",
        "#VGG takes 224x224 image\n",
        "model_input = img.resize((224,224))\n",
        "model_input = tf.keras.preprocessing.image.img_to_array(model_input)\n",
        "\n",
        "#Image array should be normalized in same way as was done for VGG training\n",
        "model_input = tf.keras.applications.vgg16.preprocess_input(model_input)\n",
        "\n",
        "#Add a dimension to input data to make it a 4D input as required by model\n",
        "model_input = np.expand_dims(model_input, axis=0)\n",
        "model_input.shape"
      ],
      "execution_count": null,
      "outputs": []
    },
    {
      "cell_type": "code",
      "metadata": {
        "id": "s_i222JRX4YZ",
        "colab_type": "code",
        "colab": {}
      },
      "source": [
        "#Predict\n",
        "prediction = vgg.predict(model_input)\n",
        "prediction.shape"
      ],
      "execution_count": null,
      "outputs": []
    },
    {
      "cell_type": "code",
      "metadata": {
        "id": "TtNFp3lWYA1v",
        "colab_type": "code",
        "colab": {}
      },
      "source": [
        "#Prediction Class\n",
        "np.argmax(prediction[0])"
      ],
      "execution_count": null,
      "outputs": []
    },
    {
      "cell_type": "code",
      "metadata": {
        "id": "9CKt80ND-ua-",
        "colab_type": "code",
        "colab": {}
      },
      "source": [
        "tf.keras.applications.vgg16.decode_predictions(prediction)"
      ],
      "execution_count": null,
      "outputs": []
    },
    {
      "cell_type": "markdown",
      "metadata": {
        "id": "-L3fhdFSYOvL",
        "colab_type": "text"
      },
      "source": [
        "ImageNet Class IDs\n",
        "- https://gist.github.com/yrevar/942d3a0ac09ec9e5eb3a"
      ]
    },
    {
      "cell_type": "markdown",
      "metadata": {
        "id": "8KzZlYeoYYBk",
        "colab_type": "text"
      },
      "source": [
        "#### Measuring Prediction time"
      ]
    },
    {
      "cell_type": "code",
      "metadata": {
        "id": "tUY0g3SqYUz2",
        "colab_type": "code",
        "colab": {}
      },
      "source": [
        "import time"
      ],
      "execution_count": null,
      "outputs": []
    },
    {
      "cell_type": "code",
      "metadata": {
        "id": "k2Gh33iRYbpl",
        "colab_type": "code",
        "colab": {}
      },
      "source": [
        "t0 = time.time()\n",
        "prediction = vgg.predict(model_input)\n",
        "print('Prediction time:', time.time()-t0, 'secs')"
      ],
      "execution_count": null,
      "outputs": []
    },
    {
      "cell_type": "markdown",
      "metadata": {
        "id": "EWQ6qv28yrsD",
        "colab_type": "text"
      },
      "source": [
        "Can we use it for real time prediction? For real time, we need to do prediction on atleast 20 images in 1 sec (20 frames per second )"
      ]
    }
  ]
}